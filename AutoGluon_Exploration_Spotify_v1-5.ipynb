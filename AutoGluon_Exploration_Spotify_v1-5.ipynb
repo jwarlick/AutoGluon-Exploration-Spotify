{
 "cells": [
  {
   "cell_type": "markdown",
   "metadata": {},
   "source": [
    "## AutoGluon Exploration and Comparison\n",
    "### Spotify User Engagement Prediction\n",
    "#### John Warlick • 1/13/21"
   ]
  },
  {
   "cell_type": "markdown",
   "metadata": {},
   "source": [
    "In this project, I compare the AutoGluon AutoML library’s performance on an artificially difficult prediction task to related regressors, some of which are constituents of AutoML’s typical data pipeline. \n",
    "\n",
    "I discovered that the hype around AutoGluon was not unfounded: it succeeded at prediction greatly compared to other regressors. In doing so, I was able to gather some information on what may have made it succeed so well, which I will be able to apply to future data work. This project serves as a jumping-off point for me to explore the strengths of AutoGluon compared to typical/standalone regressors, compare said regressors, and to develop my own knowledge about the benefits of advanced ensemble constructions."
   ]
  },
  {
   "cell_type": "markdown",
   "metadata": {},
   "source": [
    "### Background"
   ]
  },
  {
   "cell_type": "markdown",
   "metadata": {},
   "source": [
    "AutoGluon is an AutoML library that aggregates several types of regressors to make predictions. Like similar AutoML libraries, you could call it a self-customizing data pipeline, in that it selects the regressors that perform best for a task and then weighs them according to its own internal logic to provide a single prediction. In short, it is a massively simplified means for testing and using many different regressors to solve one problem. When I first learned about it and found it was available open-source, I knew I had to test it out, and I finally had a chance to do so over the holidays between quarters of my graduate program at UCLA. \n",
    "\n",
    "There are many examples posted online of AutoGluon succeeding quickly and wildly for tasks simpler regressors might take slightly longer to give slightly worse predictions for. So, my aim with this first AutoGluon project I’ve done was to do something a little different. I wanted to give AutoGluon a prediction task that was extremely difficult (if not impossible), and see what it might do. In examining its attempts to resist failure, I learned a little bit about how AutoGluon faces its problems.\n",
    "\n",
    "I call the prediction task at hand extremely difficult because I have intentionally removed features of the dataset that might make it slightly less so. Spotify’s Sequential Skip Prediction Challenge (SSSPC) was a crowdAI data challenge in which participants were given many millions of music streaming platform Spotify users’ time-series consumption data for a single session on the platform, along with another data set containing each individual song’s “audio features” (many of which are intentionally-opaque measures calculated by Spotify’s proprietary algorithms). Participants were asked to predict whether users skipped the songs they encountered for the latter half of their session, given only the data on what songs they listened to and whether they skipped them in the first half of their session. This kind of prediction task is the bread and butter for Spotify, whose famed recommendation algorithm is adept at doing exactly this, knowing what people want to listen to before they even do. Many entrants of this competition have released papers detailing the data pipelines they discovered were most effective for this task, most involving a melding of recurrent neural networks and random forests. The best solutions to this challenge that I have encountered involved carefully designed encoder-decoder architectures of recurrent neural networks with bi-directional long short-term memory layers (see: Sain Athadapa’s elegant submission).\n",
    "\n",
    "For this current project, which is much more exploratory than the challenge itself, I have examined how AutoGluon fares in predicting the ratio of user skips to full plays for every song in the SSSPC data set using _only_ the audio features provided by Spotify. In the absence of the time-series user data contextualizing when they encountered each song in their listening session, as well as other user-centric contextual data, I would deem this prediction task to be extremely difficult. After all, each and every person has a unique taste in music, and if computers could predict how often people would choose to listen to a song by its audio qualities alone, record label A&R men would be out of a job. That doesn’t mean no one’s trying to do exactly that, but it shouldn’t be simple for even the best AutoML pipeline to accomplish, and for that reason I thought it would provide interesting performance comparisons between regressors."
   ]
  },
  {
   "cell_type": "markdown",
   "metadata": {},
   "source": [
    "### Approach / Data Cleaning"
   ]
  },
  {
   "cell_type": "markdown",
   "metadata": {},
   "source": [
    "Since AutoGluon is only supported by up to version 3.7 of Python and is most stable in Linux, I made an analogous virtual environment in an Amazon Web Services EC2 instance, sorted out some dependencies, and was off to work. \n",
    "\n",
    "I will try this prediction task first with a simple Linear Regression model, then with a RandomForest, an ExtraTrees forest, a basic Keras Convolutional Neural Network, and finally with AutoGluon."
   ]
  },
  {
   "cell_type": "code",
   "execution_count": 4,
   "metadata": {},
   "outputs": [],
   "source": [
    "import pandas as pd\n",
    "import numpy as np\n",
    "import glob\n",
    "\n",
    "# Join all training set files together, and join all test set files together\n",
    "li = []\n",
    "trainsetfiles = glob.glob(\"training_set/*.csv\") \n",
    "testsetfiles = glob.glob(\"test_set/log_prehistory*.csv\") \n",
    "\n",
    "# Combine relevant features for play ratio prediction from both training and test files in one dataframe\n",
    "for filename in trainsetfiles + testsetfiles:\n",
    "    df = pd.read_csv(filename)[['track_id_clean', 'not_skipped']]\n",
    "    li.append(df)\n",
    "\n",
    "train = pd.concat(li, axis=0)"
   ]
  },
  {
   "cell_type": "markdown",
   "metadata": {},
   "source": [
    "First, I engineered the dataset to fit my needs by selecting the operative columns for the task at hand and deleting duplicate rows. I then manually engineered the “play ratio” of each song appearing in the dataset, defined as the ratio of full plays over all times the song was encountered, summed across all users."
   ]
  },
  {
   "cell_type": "code",
   "execution_count": 5,
   "metadata": {},
   "outputs": [],
   "source": [
    "# Feature engineering: make 'plays' feature from sum of plays on each unique track_id,\n",
    "# and 'counts' to indicate how many times each unique track was not skipped\n",
    "counts = train.groupby(['track_id_clean', 'not_skipped']).size().to_frame('counts').reset_index()\n",
    "train['plays'] = train.groupby('track_id_clean')['track_id_clean'].transform('count')\n",
    "train = train.sort_values(['track_id_clean', 'not_skipped'], ascending=[True, True]).reset_index(drop=True)\n",
    "train = train.drop_duplicates(subset='track_id_clean', keep='first', inplace=False).reset_index(drop=True)\n",
    "counts = counts.sort_values(['track_id_clean', 'not_skipped'], ascending=[True, False])\n",
    "counts = counts.drop_duplicates(subset='track_id_clean', keep='first', inplace=False).reset_index(drop=True)\n",
    "train = train.drop(['not_skipped'], axis=1).join(counts.set_index('track_id_clean'), on='track_id_clean')\n",
    "\n",
    "# Make 'play_ratio' feature from ratio of not-skipped songs to total appearances\n",
    "train['play_ratio'] = 0.0\n",
    "for i, row in train.iterrows():\n",
    "    playratio = row['counts'] / float(row['plays'])\n",
    "    if row['not_skipped'] == True:\n",
    "        train.at[i, 'play_ratio'] = playratio"
   ]
  },
  {
   "cell_type": "markdown",
   "metadata": {},
   "source": [
    "Next, I normalized the track features that weren’t already in veritably standardized form. I also chose to drop certain variables, which others may have chosen to one-hot encode as categorical variables: in my prior experience as a music producer and recording engineer, I have developed a well-educated hunch that a song's key and mode (that is, major versus minor) have no bearing on its success whatsoever. I can generally say the same about a song's time signature; the most common time signatures are common because people like them, and the uncommon ones (e.g. 5/4, 7/4, 13/8) don't have as much bearing on a song's success as the other decisions made in the song (see: the wide gulf in streams between Taylor Swift's \"tolerate it\" and \"closure\", two songs in 5/4 on the same album with very different aesthetic features)."
   ]
  },
  {
   "cell_type": "code",
   "execution_count": 6,
   "metadata": {},
   "outputs": [],
   "source": [
    "# Load and combine data sets containing audio features from each track\n",
    "track1 = pd.read_csv('track_features/tf_000000000000.csv')\n",
    "track2 = pd.read_csv('track_features/tf_000000000001.csv')\n",
    "tracks = pd.concat([track1, track2])\n",
    "\n",
    "# Normalize widely-ranged continuous variables \n",
    "tracks['release_year'] = (tracks['release_year'] - min(tracks['release_year'])) / (max(tracks['release_year']) - min(tracks['release_year']))\n",
    "tracks['us_popularity_estimate'] = (tracks['us_popularity_estimate'] - min(tracks['us_popularity_estimate'])) / (max(tracks['us_popularity_estimate']) - min(tracks['us_popularity_estimate']))\n",
    "tracks['dyn_range_mean'] = (tracks['dyn_range_mean'] - min(tracks['dyn_range_mean'])) / (max(tracks['dyn_range_mean']) - min(tracks['dyn_range_mean']))\n",
    "tracks['duration'] = (tracks['duration'] - min(tracks['duration'])) / (max(tracks['duration']) - min(tracks['duration']))\n",
    "tracks['tempo'] = (tracks['tempo'] - min(tracks['tempo'])) / (max(tracks['tempo']) - min(tracks['tempo']))\n",
    "tracks['loudness'] = (tracks['tempo'] - min(tracks['tempo'])) / (max(tracks['tempo']) - min(tracks['tempo']))\n",
    "\n",
    "# Drop unneeded variables\n",
    "tracks = tracks.drop(['key', 'mode', 'time_signature'], axis=1)"
   ]
  },
  {
   "cell_type": "markdown",
   "metadata": {},
   "source": [
    "Afterwards, I checked the distributions of each continuous variable. They all fall in the same relative location of value ranges, and have similar absolute ranges. While most features have something approximating a normal distribution, features like 'instrumentalness' and 'acousticness' have odd, distinctively bipolar distributions, and many other features have clear left or right skew. Because I'm looking forward to seeing how AutoGluon handles these distributions, I have not transformed any of these variables, but will be keeping an eye on how their distributions may affect their selection as features."
   ]
  },
  {
   "cell_type": "code",
   "execution_count": 23,
   "metadata": {},
   "outputs": [
    {
     "data": {
      "text/html": [
       "<div>\n",
       "<style scoped>\n",
       "    .dataframe tbody tr th:only-of-type {\n",
       "        vertical-align: middle;\n",
       "    }\n",
       "\n",
       "    .dataframe tbody tr th {\n",
       "        vertical-align: top;\n",
       "    }\n",
       "\n",
       "    .dataframe thead th {\n",
       "        text-align: right;\n",
       "    }\n",
       "</style>\n",
       "<table border=\"1\" class=\"dataframe\">\n",
       "  <thead>\n",
       "    <tr style=\"text-align: right;\">\n",
       "      <th></th>\n",
       "      <th>track_id</th>\n",
       "      <th>duration</th>\n",
       "      <th>release_year</th>\n",
       "      <th>us_popularity_estimate</th>\n",
       "      <th>acousticness</th>\n",
       "      <th>beat_strength</th>\n",
       "      <th>bounciness</th>\n",
       "      <th>danceability</th>\n",
       "      <th>dyn_range_mean</th>\n",
       "      <th>energy</th>\n",
       "      <th>...</th>\n",
       "      <th>tempo</th>\n",
       "      <th>valence</th>\n",
       "      <th>acoustic_vector_0</th>\n",
       "      <th>acoustic_vector_1</th>\n",
       "      <th>acoustic_vector_2</th>\n",
       "      <th>acoustic_vector_3</th>\n",
       "      <th>acoustic_vector_4</th>\n",
       "      <th>acoustic_vector_5</th>\n",
       "      <th>acoustic_vector_6</th>\n",
       "      <th>acoustic_vector_7</th>\n",
       "    </tr>\n",
       "  </thead>\n",
       "  <tbody>\n",
       "    <tr>\n",
       "      <th>0</th>\n",
       "      <td>t_2e8f4b71-8a0b-4b9c-b7d8-fb5208e87f9f</td>\n",
       "      <td>0.167239</td>\n",
       "      <td>0.304348</td>\n",
       "      <td>0.958289</td>\n",
       "      <td>0.716209</td>\n",
       "      <td>0.366495</td>\n",
       "      <td>0.332605</td>\n",
       "      <td>0.439835</td>\n",
       "      <td>0.110348</td>\n",
       "      <td>0.238847</td>\n",
       "      <td>...</td>\n",
       "      <td>0.401501</td>\n",
       "      <td>0.223395</td>\n",
       "      <td>0.146012</td>\n",
       "      <td>-0.706908</td>\n",
       "      <td>0.259496</td>\n",
       "      <td>0.481157</td>\n",
       "      <td>0.238427</td>\n",
       "      <td>-0.098389</td>\n",
       "      <td>-0.254960</td>\n",
       "      <td>-0.227383</td>\n",
       "    </tr>\n",
       "    <tr>\n",
       "      <th>1</th>\n",
       "      <td>t_dae2ec0e-ec7b-4b3e-b60c-4a884d0eccb0</td>\n",
       "      <td>0.066561</td>\n",
       "      <td>0.188406</td>\n",
       "      <td>0.727204</td>\n",
       "      <td>0.839460</td>\n",
       "      <td>0.362212</td>\n",
       "      <td>0.389829</td>\n",
       "      <td>0.507580</td>\n",
       "      <td>0.130109</td>\n",
       "      <td>0.420476</td>\n",
       "      <td>...</td>\n",
       "      <td>0.565365</td>\n",
       "      <td>0.484702</td>\n",
       "      <td>0.039554</td>\n",
       "      <td>-0.539554</td>\n",
       "      <td>0.105141</td>\n",
       "      <td>0.692589</td>\n",
       "      <td>0.226047</td>\n",
       "      <td>-0.468162</td>\n",
       "      <td>0.164389</td>\n",
       "      <td>-0.769024</td>\n",
       "    </tr>\n",
       "    <tr>\n",
       "      <th>2</th>\n",
       "      <td>t_cf0164dd-1531-4399-bfa6-dec19cd1fedc</td>\n",
       "      <td>0.045423</td>\n",
       "      <td>0.347826</td>\n",
       "      <td>0.962039</td>\n",
       "      <td>0.054673</td>\n",
       "      <td>0.495002</td>\n",
       "      <td>0.589378</td>\n",
       "      <td>0.552311</td>\n",
       "      <td>0.177940</td>\n",
       "      <td>0.842938</td>\n",
       "      <td>...</td>\n",
       "      <td>0.555589</td>\n",
       "      <td>0.818441</td>\n",
       "      <td>0.083863</td>\n",
       "      <td>-0.242108</td>\n",
       "      <td>-0.014258</td>\n",
       "      <td>0.096396</td>\n",
       "      <td>0.417641</td>\n",
       "      <td>-0.050576</td>\n",
       "      <td>-0.204757</td>\n",
       "      <td>-0.172563</td>\n",
       "    </tr>\n",
       "    <tr>\n",
       "      <th>3</th>\n",
       "      <td>t_0f90acc7-d5c5-4e53-901d-55610fbd090c</td>\n",
       "      <td>0.117318</td>\n",
       "      <td>0.550725</td>\n",
       "      <td>0.679683</td>\n",
       "      <td>0.042606</td>\n",
       "      <td>0.389634</td>\n",
       "      <td>0.359044</td>\n",
       "      <td>0.585673</td>\n",
       "      <td>0.115343</td>\n",
       "      <td>0.665398</td>\n",
       "      <td>...</td>\n",
       "      <td>0.532584</td>\n",
       "      <td>0.594829</td>\n",
       "      <td>0.192498</td>\n",
       "      <td>0.340039</td>\n",
       "      <td>0.034846</td>\n",
       "      <td>-0.389794</td>\n",
       "      <td>0.518381</td>\n",
       "      <td>0.185008</td>\n",
       "      <td>-0.079907</td>\n",
       "      <td>-0.016978</td>\n",
       "    </tr>\n",
       "    <tr>\n",
       "      <th>4</th>\n",
       "      <td>t_36b9ad02-095a-443d-a697-6c7285d9410a</td>\n",
       "      <td>0.081694</td>\n",
       "      <td>0.536232</td>\n",
       "      <td>0.790589</td>\n",
       "      <td>0.249982</td>\n",
       "      <td>0.513640</td>\n",
       "      <td>0.485435</td>\n",
       "      <td>0.635095</td>\n",
       "      <td>0.136824</td>\n",
       "      <td>0.408715</td>\n",
       "      <td>...</td>\n",
       "      <td>0.608880</td>\n",
       "      <td>0.591289</td>\n",
       "      <td>0.270586</td>\n",
       "      <td>-0.411061</td>\n",
       "      <td>0.165898</td>\n",
       "      <td>0.225652</td>\n",
       "      <td>0.335518</td>\n",
       "      <td>-0.036643</td>\n",
       "      <td>-0.016300</td>\n",
       "      <td>-0.446870</td>\n",
       "    </tr>\n",
       "  </tbody>\n",
       "</table>\n",
       "<p>5 rows × 27 columns</p>\n",
       "</div>"
      ],
      "text/plain": [
       "                                 track_id  duration  release_year  \\\n",
       "0  t_2e8f4b71-8a0b-4b9c-b7d8-fb5208e87f9f  0.167239      0.304348   \n",
       "1  t_dae2ec0e-ec7b-4b3e-b60c-4a884d0eccb0  0.066561      0.188406   \n",
       "2  t_cf0164dd-1531-4399-bfa6-dec19cd1fedc  0.045423      0.347826   \n",
       "3  t_0f90acc7-d5c5-4e53-901d-55610fbd090c  0.117318      0.550725   \n",
       "4  t_36b9ad02-095a-443d-a697-6c7285d9410a  0.081694      0.536232   \n",
       "\n",
       "   us_popularity_estimate  acousticness  beat_strength  bounciness  \\\n",
       "0                0.958289      0.716209       0.366495    0.332605   \n",
       "1                0.727204      0.839460       0.362212    0.389829   \n",
       "2                0.962039      0.054673       0.495002    0.589378   \n",
       "3                0.679683      0.042606       0.389634    0.359044   \n",
       "4                0.790589      0.249982       0.513640    0.485435   \n",
       "\n",
       "   danceability  dyn_range_mean    energy  ...     tempo   valence  \\\n",
       "0      0.439835        0.110348  0.238847  ...  0.401501  0.223395   \n",
       "1      0.507580        0.130109  0.420476  ...  0.565365  0.484702   \n",
       "2      0.552311        0.177940  0.842938  ...  0.555589  0.818441   \n",
       "3      0.585673        0.115343  0.665398  ...  0.532584  0.594829   \n",
       "4      0.635095        0.136824  0.408715  ...  0.608880  0.591289   \n",
       "\n",
       "   acoustic_vector_0  acoustic_vector_1  acoustic_vector_2  acoustic_vector_3  \\\n",
       "0           0.146012          -0.706908           0.259496           0.481157   \n",
       "1           0.039554          -0.539554           0.105141           0.692589   \n",
       "2           0.083863          -0.242108          -0.014258           0.096396   \n",
       "3           0.192498           0.340039           0.034846          -0.389794   \n",
       "4           0.270586          -0.411061           0.165898           0.225652   \n",
       "\n",
       "   acoustic_vector_4  acoustic_vector_5  acoustic_vector_6  acoustic_vector_7  \n",
       "0           0.238427          -0.098389          -0.254960          -0.227383  \n",
       "1           0.226047          -0.468162           0.164389          -0.769024  \n",
       "2           0.417641          -0.050576          -0.204757          -0.172563  \n",
       "3           0.518381           0.185008          -0.079907          -0.016978  \n",
       "4           0.335518          -0.036643          -0.016300          -0.446870  \n",
       "\n",
       "[5 rows x 27 columns]"
      ]
     },
     "execution_count": 23,
     "metadata": {},
     "output_type": "execute_result"
    }
   ],
   "source": [
    "tracks.head()"
   ]
  },
  {
   "cell_type": "code",
   "execution_count": 40,
   "metadata": {},
   "outputs": [
    {
     "data": {
      "image/png": "[encoded data removed]",
      "text/plain": [
       "<Figure size 936x720 with 28 Axes>"
      ]
     },
     "metadata": {
      "needs_background": "light"
     },
     "output_type": "display_data"
    }
   ],
   "source": [
    "%matplotlib inline\n",
    "import matplotlib.pyplot as plt\n",
    "\n",
    "fig, axes = plt.subplots(4, 7, figsize=(13, 10))\n",
    "\n",
    "colors = ['xkcd:burgundy', 'xkcd:crimson', 'xkcd:red', 'xkcd:rose', 'xkcd:pinkish', 'xkcd:coral','xkcd:orange','xkcd:goldenrod', 'xkcd:mustard', 'xkcd:chartreuse', \\\n",
    "          'xkcd:bright green','xkcd:spring green','xkcd:green', 'xkcd:kelly green',  'xkcd:seafoam green', 'xkcd:aqua', \\\n",
    "          'xkcd:pale blue', 'xkcd:neon blue','xkcd:light blue','xkcd:sky blue', 'xkcd:bright blue', 'xkcd:blue purple','xkcd:purple','xkcd:violet','xkcd:lavender',\\\n",
    "          'xkcd:light violet']\n",
    "\n",
    "# Graph continuous features to observe distributions\n",
    "cont_feats = tracks.drop(['track_id'], axis=1)\n",
    "\n",
    "for ax, feat, col in zip(axes.flatten(), cont_feats.columns, colors):\n",
    "    x = cont_feats[feat]\n",
    "    ax.hist(x, bins=20, label=str(feat), color=col)\n",
    "    ax.set_title(feat.upper(), fontsize = 8, y = 1.07)\n",
    "            \n",
    "plt.suptitle('Distributions of Continuous Features in Dataset', fontsize = 20, y = 1.05)\n",
    "plt.tight_layout()\n",
    "plt.show()"
   ]
  },
  {
   "cell_type": "code",
   "execution_count": 42,
   "metadata": {},
   "outputs": [],
   "source": [
    "# Merge user behavior data with track audio feature data\n",
    "tracks2 = tracks\n",
    "tracks2 = tracks2.merge(train, how='right', left_on='track_id', right_on='track_id_clean')\n",
    "\n",
    "# Remove all tracks not appearing at least 20 times throughout data\n",
    "tracks2 = tracks2[tracks2['plays'] >= 20]\n",
    "\n",
    "# Remove all unnecessary features for task at hand\n",
    "tracks2 = tracks2.drop(['plays', 'counts', 'track_id', 'track_id_clean', 'not_skipped'], axis=1)"
   ]
  },
  {
   "cell_type": "markdown",
   "metadata": {},
   "source": [
    "Because there are so many songs on Spotify, many songs in the dataset were only encountered once, so I filtered the songs down to only songs appearing at least 20 times, resulting in an N of around 145,000. \n",
    "\n",
    "After randomly splitting the data, we can start comparing regressors in their performance in predicting these tracks' skip/play ratios."
   ]
  },
  {
   "cell_type": "code",
   "execution_count": 43,
   "metadata": {},
   "outputs": [],
   "source": [
    "from sklearn.model_selection import train_test_split\n",
    "\n",
    "# Split data into training and test samples\n",
    "train, test = train_test_split(tracks2, random_state = 20, test_size=0.2)\n",
    "train.to_csv(r'Skip_training.csv', index=False)\n",
    "test.to_csv(r'Skip_test.csv', index=False)\n",
    "y_tr = train[['play_ratio']].reset_index(drop=True)\n",
    "X_tr = train.drop(['play_ratio'], axis=1).reset_index(drop=True)\n",
    "y_test = test[['play_ratio']].reset_index(drop=True)\n",
    "X_test = test.drop(['play_ratio'], axis=1).reset_index(drop=True)"
   ]
  },
  {
   "cell_type": "markdown",
   "metadata": {},
   "source": [
    "### Linear Regression"
   ]
  },
  {
   "cell_type": "markdown",
   "metadata": {},
   "source": [
    "Before getting into prediction with Forests and Neural Networks, setting a base comparison with an ordinary linear regression model will be useful."
   ]
  },
  {
   "cell_type": "code",
   "execution_count": 44,
   "metadata": {},
   "outputs": [],
   "source": [
    "from sklearn.linear_model import LinearRegression\n",
    "\n",
    "# Instantiate and fit Linear Regression model\n",
    "lm = LinearRegression()\n",
    "_ = lm.fit(X_tr, y_tr)"
   ]
  },
  {
   "cell_type": "markdown",
   "metadata": {},
   "source": [
    "#### Results"
   ]
  },
  {
   "cell_type": "code",
   "execution_count": 45,
   "metadata": {},
   "outputs": [
    {
     "name": "stdout",
     "output_type": "stream",
     "text": [
      "The linear regression model's RMSE on the test data is 0.10972723365784956.\n"
     ]
    }
   ],
   "source": [
    "from sklearn.metrics import mean_squared_error\n",
    "\n",
    "# Predict on Linear Regression model\n",
    "y_pred = lm.predict(X_test)\n",
    "print(f\"The linear regression model's RMSE on the test data is {mean_squared_error(y_test, y_pred, squared=False)}.\")"
   ]
  },
  {
   "cell_type": "markdown",
   "metadata": {},
   "source": [
    "The linear regression model, on average, showed a 10.97% error for predicting skip rates for Spotify songs given their audio features. This is a good baseline for evaluating whether the regressors to come are adding any value to this prediction problem. Linear regression here provided extremely quick predictions (within seconds) compared to the normal prediction times for the regressors to come, so if other regressors can't beat this error by much, it shows their worth for this kind of problem."
   ]
  },
  {
   "cell_type": "code",
   "execution_count": 46,
   "metadata": {},
   "outputs": [
    {
     "name": "stdout",
     "output_type": "stream",
     "text": [
      "Linear Regression Feature Importances:\n",
      "\n",
      "duration                                        -0.71253\n",
      "dyn_range_mean                                  -0.43762\n",
      "acoustic_vector_3                               -0.09898\n",
      "acoustic_vector_1                               -0.09207\n",
      "flatness                                        -0.08003\n",
      "acoustic_vector_5                               -0.07000\n",
      "danceability                                    -0.01932\n",
      "energy                                          -0.01901\n",
      "beat_strength                                   -0.00842\n",
      "loudness                                        -0.00437\n",
      "tempo                                           -0.00437\n",
      "liveness                                         0.00105\n",
      "valence                                          0.01338\n",
      "acousticness                                     0.01361\n",
      "acoustic_vector_0                                0.01531\n",
      "mechanism                                        0.01818\n",
      "acoustic_vector_2                                0.02146\n",
      "instrumentalness                                 0.02487\n",
      "acoustic_vector_4                                0.02635\n",
      "organism                                         0.02865\n",
      "acoustic_vector_7                                0.03514\n",
      "acoustic_vector_6                                0.03563\n",
      "speechiness                                      0.06115\n",
      "release_year                                     0.12242\n",
      "bounciness                                       0.13224\n",
      "us_popularity_estimate                           0.22578\n"
     ]
    }
   ],
   "source": [
    "# Calculate Linear Regression feature importances\n",
    "importances = lm.coef_\n",
    "imp_dict = {X_test.columns[i]: importances[0][i] for i in range(len(importances[0]))}\n",
    "sorted_tups = sorted(imp_dict.items(), key=lambda item:item[1])\n",
    "sorted_imps = {i:j for i, j in sorted_tups}\n",
    "\n",
    "print('Linear Regression Feature Importances:\\n')\n",
    "for feat, imp in sorted_imps.items():\n",
    "    print(f'{feat:<25} {imp:>30.5f}')"
   ]
  },
  {
   "cell_type": "markdown",
   "metadata": {},
   "source": [
    "On an intuitive level, it makes a lot of sense what a simple linear regression would pick for predicting skips on a Spotify song. 'duration' has the lowest and greatest-magnitude coefficient out of all features in the regression, owing to the fact that the longer a given song is, the more time a user has to skip it. More popular songs also tend to be shorter, because they are more 'digestible', demanding less resources to consume. The next largest coefficient, 'dyn_range_mean', is also sensibly negative, as songs with less dynamic range tend to be songs that are loud throughout their entire runtime, which are naturally interpreted as more exciting and easier for the listener to keep engaged with than songs with lulls in their dynamic. The third-highest-magnitude coefficient is also the highest positive coefficient, and is for the feautre 'us_popularity_estimate', which is actually not an audio feature per sé, but more of a measure of how many listens a song has. Of course, more popular songs tend to be listened to more, so it's obvious why this would be an important coefficent for a simple linear predictor. It will be noteworthy to see how these features change in importance in the regressors to come."
   ]
  },
  {
   "cell_type": "markdown",
   "metadata": {},
   "source": [
    "### Random Forest"
   ]
  },
  {
   "cell_type": "markdown",
   "metadata": {},
   "source": [
    "I outfitted a RandomForest regressor for the prediction task and tuned its hyperparameters with GridSearch using options I thought were appropriate. The GridSearch below is actually the second one I completed; in response to the first's results, I explored a different set of hyperparameter values. Although I would have liked to do yet another run, and would have preferred to cross-validate a little more on the GridSearch, as you can see from the elapsed time, doing so would have been prohibitively time-expensive. (This elapsed timing comes from my laptop; AWS processing with the inexpensive instance I'm working with was slower.)"
   ]
  },
  {
   "cell_type": "code",
   "execution_count": 48,
   "metadata": {},
   "outputs": [],
   "source": [
    "from sklearn.ensemble import RandomForestRegressor\n",
    "\n",
    "# Instantiate Random Forest regressor\n",
    "rf = RandomForestRegressor(random_state=20)\n",
    "\n",
    "# Define hyperparameter grid for GridSearch\n",
    "param_grid = {\n",
    "    'max_depth': [2,4,6,8],\n",
    "    'max_features': [3,5,10,25],\n",
    "    'min_samples_leaf': [.01,.05,.1,.2],\n",
    "    'min_samples_split': [.01,.05,.1,.2],\n",
    "    'n_estimators': [2, 8, 25, 100, 200] \n",
    "}"
   ]
  },
  {
   "cell_type": "code",
   "execution_count": 78,
   "metadata": {},
   "outputs": [
    {
     "name": "stdout",
     "output_type": "stream",
     "text": [
      "Fitting 2 folds for each of 1280 candidates, totalling 2560 fits\n"
     ]
    },
    {
     "name": "stderr",
     "output_type": "stream",
     "text": [
      "[Parallel(n_jobs=-1)]: Using backend LokyBackend with 12 concurrent workers.\n",
      "[Parallel(n_jobs=-1)]: Done  17 tasks      | elapsed:    9.0s\n",
      "[Parallel(n_jobs=-1)]: Done 138 tasks      | elapsed:  1.0min\n",
      "[Parallel(n_jobs=-1)]: Done 341 tasks      | elapsed:  3.2min\n",
      "[Parallel(n_jobs=-1)]: Done 624 tasks      | elapsed: 13.1min\n",
      "[Parallel(n_jobs=-1)]: Done 989 tasks      | elapsed: 19.4min\n",
      "[Parallel(n_jobs=-1)]: Done 1434 tasks      | elapsed: 37.2min\n",
      "[Parallel(n_jobs=-1)]: Done 1961 tasks      | elapsed: 61.1min\n",
      "[Parallel(n_jobs=-1)]: Done 2560 out of 2560 | elapsed: 87.3min finished\n",
      "/Users/johnwarlick/opt/anaconda3/lib/python3.8/site-packages/sklearn/model_selection/_search.py:765: DataConversionWarning: A column-vector y was passed when a 1d array was expected. Please change the shape of y to (n_samples,), for example using ravel().\n",
      "  self.best_estimator_.fit(X, y, **fit_params)\n"
     ]
    },
    {
     "data": {
      "text/plain": [
       "GridSearchCV(cv=2, estimator=RandomForestRegressor(random_state=20), n_jobs=-1,\n",
       "             param_grid={'max_depth': [2, 4, 6, 8],\n",
       "                         'max_features': [3, 5, 10, 25],\n",
       "                         'min_samples_leaf': [0.01, 0.05, 0.1, 0.2],\n",
       "                         'min_samples_split': [0.01, 0.05, 0.1, 0.2],\n",
       "                         'n_estimators': [2, 8, 25, 100, 200]},\n",
       "             scoring='neg_root_mean_squared_error', verbose=2)"
      ]
     },
     "execution_count": 78,
     "metadata": {},
     "output_type": "execute_result"
    }
   ],
   "source": [
    "from sklearn.model_selection import GridSearchCV\n",
    "\n",
    "# Instantiate GridSearchCV and perform grid search\n",
    "grid_search = GridSearchCV(estimator = rf, param_grid = param_grid, cv = 2, scoring='neg_root_mean_squared_error', n_jobs = -1, verbose = 2) \n",
    "grid_search.fit(X_tr, y_tr)"
   ]
  },
  {
   "cell_type": "code",
   "execution_count": 79,
   "metadata": {},
   "outputs": [
    {
     "name": "stdout",
     "output_type": "stream",
     "text": [
      "Best hyperparameters:\n",
      " {'max_depth': 8, 'max_features': 10, 'min_samples_leaf': 0.01, 'min_samples_split': 0.01, 'n_estimators': 100}\n",
      "Best score: -0.10834693136389512\n"
     ]
    }
   ],
   "source": [
    "# Print the best hyperparameters\n",
    "best_hyperparams = grid_search.best_params_\n",
    "print('Best hyperparameters:\\n', best_hyperparams)\n",
    "\n",
    "# Print the best score\n",
    "best_score = grid_search.best_score_\n",
    "print('Best score:', best_score)"
   ]
  },
  {
   "cell_type": "code",
   "execution_count": 49,
   "metadata": {},
   "outputs": [
    {
     "data": {
      "text/plain": [
       "RandomForestRegressor(max_depth=8, max_features=10, min_samples_leaf=0.01,\n",
       "                      min_samples_split=0.01, random_state=20)"
      ]
     },
     "execution_count": 49,
     "metadata": {},
     "output_type": "execute_result"
    }
   ],
   "source": [
    "# Using the best hyperparameters, re-instantiate the Random Forest and fit to training data\n",
    "best_forest = RandomForestRegressor(random_state=20, max_depth=8, max_features=10,\\\n",
    "                                    min_samples_leaf=0.01, min_samples_split=0.01, n_estimators=100)\n",
    "\n",
    "best_forest.fit(X_tr, np.ravel(y_tr))"
   ]
  },
  {
   "cell_type": "code",
   "execution_count": 50,
   "metadata": {},
   "outputs": [
    {
     "name": "stdout",
     "output_type": "stream",
     "text": [
      "The random forest's RMSE on the test data is 0.10845876484715616.\n"
     ]
    }
   ],
   "source": [
    "from sklearn.metrics import mean_squared_error\n",
    "\n",
    "# Make predictions on test set with Random Forest and calculate RMSE\n",
    "y_pred = best_forest.predict(X_test)\n",
    "print(f\"The random forest's RMSE on the test data is {mean_squared_error(y_test, y_pred, squared=False)}.\")"
   ]
  },
  {
   "cell_type": "markdown",
   "metadata": {},
   "source": [
    "#### Results\n",
    "In the end, the best random forest specified from GridSearch has a root mean squared error of .109, which would correspond to an average of 10.9% error in predicting every track in the testing data's true play/skip ratio. To me, this isn't terrible, but I think we can do better."
   ]
  },
  {
   "cell_type": "code",
   "execution_count": 51,
   "metadata": {},
   "outputs": [
    {
     "data": {
      "image/png": "[encoded data removed]",
      "text/plain": [
       "<Figure size 432x288 with 1 Axes>"
      ]
     },
     "metadata": {
      "needs_background": "light"
     },
     "output_type": "display_data"
    }
   ],
   "source": [
    "# Feature importances in best Random Forest model\n",
    "importances = pd.Series(best_forest.feature_importances_, index = X_test.columns)\n",
    "sorted_importances = importances.sort_values()\n",
    "sorted_importances[0:15].plot(kind='barh', color='lightgreen')\n",
    "plt.show()"
   ]
  },
  {
   "cell_type": "markdown",
   "metadata": {},
   "source": [
    "The features selected here are interesting. The acoustic vectors that Spotify provides as track features are inherently unexplainable (they are calculated by proprietary algorithms by \"Music DNA Company\" The Echo Nest, which Spotify acquired in 2014), but 'energy' and 'organism' (a quantization of 'organic' music qualities) are surely sensible factors to be driving user engagement with particular songs. Many listeners listen to music in an effort to catch the 'energy' (e.g. gym-goers trying to find music for exercise), and Spotify defines the audio feature on its website as being analogous to \"intensity\" and \"activity\", or songs that feel loud and noisy. Louder content has been proven time and time again to be more engaging and exciting than quieter content, and it makes sense why listeners would be drawn to tracks that have it in spades. That being said, it's important to note 'energy' doesn't capture exactly the same thing as the audio feature 'loudness' itself (which is a measure of average loudness). 'Organism', on the other hand, may be a result of current trends in music. Particularly in instrumental music, softer, more 'natural' sounds have become popular in the last few years, coinciding with the rising appeal of 'ASMR' audio in short-form video content. In other words, recent trends see listeners gravitating towards calmer, more natural and human-recalling sounds, so it's unsurprising that 'organism' is a helpful determinant of whether users will like a given track on Spotify. Examining the features in comparison to their distributions, it doesn't appear that normality or lack thereof drove these selections, but the oddly bipolar features appear absent, so it will be intriguing to see if AutoGluon selects those differently."
   ]
  },
  {
   "cell_type": "markdown",
   "metadata": {},
   "source": [
    "### ExtraTreesRegressor"
   ]
  },
  {
   "cell_type": "markdown",
   "metadata": {},
   "source": [
    "Now that we've seen this prediction task's performance with a RandomForest, I thought it might be illuminative to have an ExtraTrees regressor comparison. The two regressors may be similar, but there are a few properties of the data set that I thought made it worth looking into. For one, the sheer variation between each row in this dataset -- that is, the uniqueness of each song -- makes the bootstrapping involved in Random Forests a more intuitive processing decision than it would be with other datasets, but may also randomly exaggerate the importance of outlier feature values from particular observations. Thus, the fact that all trees in ExtraTrees forests are trained with the complete data set may provide telling performance differences. Also, this data set has features with many different distributions, and it may be interesting to note how an ExtraTreesRegressor's random splitting at each node affects performance and feature selection compared to RandomForests' more \"optimal\" splitting."
   ]
  },
  {
   "cell_type": "code",
   "execution_count": 52,
   "metadata": {},
   "outputs": [],
   "source": [
    "from sklearn.ensemble import ExtraTreesRegressor\n",
    "\n",
    "# Instantiate ExtraTrees regressor\n",
    "etf = ExtraTreesRegressor(random_state=20)\n",
    "\n",
    "# Define hyperparameter grid for GridSearch\n",
    "param_grid = {\n",
    "    'max_depth': [2,8,16,25,50],\n",
    "    'max_features': [3,5,10,25],\n",
    "    'min_samples_leaf': [.01,.05,.1,.2],\n",
    "    'min_samples_split': [.01,.05,.1,.2],\n",
    "    'n_estimators': [2, 8, 25, 100, 200] \n",
    "}"
   ]
  },
  {
   "cell_type": "code",
   "execution_count": 66,
   "metadata": {},
   "outputs": [
    {
     "name": "stdout",
     "output_type": "stream",
     "text": [
      "Fitting 2 folds for each of 1600 candidates, totalling 3200 fits\n"
     ]
    },
    {
     "name": "stderr",
     "output_type": "stream",
     "text": [
      "[Parallel(n_jobs=-1)]: Using backend LokyBackend with 12 concurrent workers.\n",
      "[Parallel(n_jobs=-1)]: Done  17 tasks      | elapsed:    4.5s\n",
      "[Parallel(n_jobs=-1)]: Done 138 tasks      | elapsed:   19.7s\n",
      "[Parallel(n_jobs=-1)]: Done 341 tasks      | elapsed:   54.1s\n",
      "[Parallel(n_jobs=-1)]: Done 624 tasks      | elapsed:  3.2min\n",
      "[Parallel(n_jobs=-1)]: Done 989 tasks      | elapsed:  5.4min\n",
      "[Parallel(n_jobs=-1)]: Done 1434 tasks      | elapsed: 10.9min\n",
      "[Parallel(n_jobs=-1)]: Done 1961 tasks      | elapsed: 18.1min\n",
      "[Parallel(n_jobs=-1)]: Done 2568 tasks      | elapsed: 25.5min\n",
      "[Parallel(n_jobs=-1)]: Done 3200 out of 3200 | elapsed: 33.8min finished\n"
     ]
    },
    {
     "data": {
      "text/plain": [
       "GridSearchCV(cv=2, estimator=ExtraTreesRegressor(random_state=20), n_jobs=-1,\n",
       "             param_grid={'max_depth': [2, 8, 16, 25, 50],\n",
       "                         'max_features': [3, 5, 10, 25],\n",
       "                         'min_samples_leaf': [0.01, 0.05, 0.1, 0.2],\n",
       "                         'min_samples_split': [0.01, 0.05, 0.1, 0.2],\n",
       "                         'n_estimators': [2, 8, 25, 100, 200]},\n",
       "             scoring='neg_root_mean_squared_error', verbose=2)"
      ]
     },
     "execution_count": 66,
     "metadata": {},
     "output_type": "execute_result"
    }
   ],
   "source": [
    "from sklearn.model_selection import GridSearchCV\n",
    "\n",
    "# Instantiate GridSearchCV and perform grid search\n",
    "grid_search = GridSearchCV(estimator = etf, param_grid = param_grid, cv = 2, scoring='neg_root_mean_squared_error', n_jobs = -1, verbose = 2) \n",
    "grid_search.fit(X_tr, np.ravel(y_tr))"
   ]
  },
  {
   "cell_type": "code",
   "execution_count": 67,
   "metadata": {},
   "outputs": [
    {
     "name": "stdout",
     "output_type": "stream",
     "text": [
      "Best hyperparameters:\n",
      " {'max_depth': 16, 'max_features': 25, 'min_samples_leaf': 0.01, 'min_samples_split': 0.01, 'n_estimators': 100}\n",
      "Best score: -0.10945875396030427\n"
     ]
    }
   ],
   "source": [
    "best_hyperparams = grid_search.best_params_\n",
    "print('Best hyperparameters:\\n', best_hyperparams)\n",
    "\n",
    "# Print the best score\n",
    "best_score = grid_search.best_score_\n",
    "print('Best score:', best_score)"
   ]
  },
  {
   "cell_type": "code",
   "execution_count": 53,
   "metadata": {},
   "outputs": [
    {
     "data": {
      "text/plain": [
       "ExtraTreesRegressor(max_depth=16, max_features=25, min_samples_leaf=0.01,\n",
       "                    min_samples_split=0.01, random_state=20)"
      ]
     },
     "execution_count": 53,
     "metadata": {},
     "output_type": "execute_result"
    }
   ],
   "source": [
    "# Using the best hyperparameters, re-instantiate the ExtraTrees regressor and fit to training data\n",
    "best_extra_forest = ExtraTreesRegressor(random_state=20, max_depth=16, max_features=25,\\\n",
    "                                    min_samples_leaf=0.01, min_samples_split=0.01, n_estimators=100)\n",
    "\n",
    "best_extra_forest.fit(X_tr, np.ravel(y_tr))"
   ]
  },
  {
   "cell_type": "code",
   "execution_count": 54,
   "metadata": {},
   "outputs": [
    {
     "name": "stdout",
     "output_type": "stream",
     "text": [
      "The Extra Trees Forest's RMSE on the test data is 0.10974964170245556.\n"
     ]
    }
   ],
   "source": [
    "from sklearn.metrics import mean_squared_error\n",
    "\n",
    "# Make predictions on test set with ExtraTrees regressor and calculate RMSE\n",
    "y_pred = best_extra_forest.predict(X_test)\n",
    "print(f\"The Extra Trees Forest's RMSE on the test data is {mean_squared_error(y_test, y_pred, squared=False)}.\")"
   ]
  },
  {
   "cell_type": "markdown",
   "metadata": {},
   "source": [
    "#### Results\n",
    "In the end, the best random forest specified from GridSearch has a root mean squared error of .1098, which would correspond to an average of 10.98% error in predicting every track in the testing data's true play/skip ratio. This performance is worse than the RandomForest, and is actually marginakky worse than our baseline linear regression model! In hindsight, it may not have been worth the time spent tuning its hyperparameters."
   ]
  },
  {
   "cell_type": "code",
   "execution_count": 55,
   "metadata": {},
   "outputs": [
    {
     "data": {
      "image/png": "[encoded data removed]",
      "text/plain": [
       "<Figure size 432x288 with 1 Axes>"
      ]
     },
     "metadata": {
      "needs_background": "light"
     },
     "output_type": "display_data"
    }
   ],
   "source": [
    "# Feature importances in best ExtraTrees model\n",
    "import matplotlib.pyplot as plt\n",
    "importances = pd.Series(best_extra_forest.feature_importances_, index = X_test.columns)\n",
    "sorted_importances = importances.sort_values()\n",
    "sorted_importances[0:15].plot(kind='barh', color='lightgreen')\n",
    "plt.show()"
   ]
  },
  {
   "cell_type": "markdown",
   "metadata": {},
   "source": [
    "Although it would be easy to ignore the feature importance of this ExtraTreesRegressor because of its inferior performance, it's fascinating to note how differently it assigned feature importances compared to the RandomForest we studied. The two Forests only share 'organism' and 'acoustic_vector_7' in their top 3 features. Interestingly, the most important features in the ExtraTreesForest seem to be more important on average than those in the RandomForest's listing; in particular, the top 4 features here had importance magnitudes greater than 0.0075 compared to only the very top feature in the RandomForest, and the top 2 features in this forest were deemed more predictive than top feature of the RandomForest. 'us_popularity_estimate', the most predictive feature here, is nowhere to be found in the top features of the RandomForest, which seems strange, because popularity is inarguably an intuitive predictor of whether a song will be listened to by a random user. Of course, it's also one of the few 'audio features' of this dataset that is not an audio feature at all; it's a proxy of overall engagement across all users. Because one can't separate features from their omitted variables in Forests the same way that one can with linear regression models, one could argue that 'us_popularity_estimate' could stand in here for correlated audio features that determine popularity. However, as we'll see later, it's not apparent there are many directly correlated acoustic features with popularity.\n",
    "\n",
    "One can speculate whether the lack of bootstrapping or the presence of random splits led to the very clear difference in feature importance here compared to RandomForests, and I would personally guess it has to do with bootstrapping. Although bootstrapping in RandomForests is said to reduce overfitting, the effect of having repeat rows with near-extreme feature values can be said in itself to randomize the extent that particular observations lead the model to 'overfit', potentially exaggerating the usefulness of particular features for predicting skips on a particular song, and leading them to be considered more predictive than they may have been otherwise. This may seem counterintuitive for extending prediction to other songs, but over a large pool of songs, those individual-song feature exaggerations may better capture how specific features predict skips than the forest would without bootstrapping. In any case, it may look odd that this ExtraTreesRegressor performed worse overall than the RandomForestRegressor even though it had greater-magnitude feature importances, but with such an 'impossible' task as predicting skips based on audio features alone, I think it makes some sense. Perhaps spreading feature importance across more audio features is a surer approach for this prediction task than relying more on a few specific features."
   ]
  },
  {
   "cell_type": "markdown",
   "metadata": {},
   "source": [
    "### Convolutional Neural Network"
   ]
  },
  {
   "cell_type": "markdown",
   "metadata": {},
   "source": [
    "Neural nets are not typically used for regression problems because they’re not typically _needed_ for such tasks. Deep learning is particularly helpful for tasks with multidimensional outputs like image recognition and audio processing, and many effective techniques for simple tabular prediction predate neural networks, so many data scientists call them ‘overkill’ for predicting continuous values. However, because AutoGluon’s unique neural network is one of the best-performing components of the prediction pipeline that does well with tasks like the one we're experimenting with, so a more typical neural net’s performance is a handy comparison.\n",
    " \n",
    "Here, I've constructed a somewhat conventional convolutional neural network, with a small modification in the output layer. Normally, one would want to outfit a CNN for regression with a linear activation function for its output layer, because the final prediction should be an unbounded continuous variable. However, in this problem a sigmoid activation works as well, because our final prediction is bounded between 0 and 1. In fact, with every configuration of layers and units I tested (not explored here for space considerations), a sigmoid activation function for the output layer performed better than a linear activation function."
   ]
  },
  {
   "cell_type": "code",
   "execution_count": 56,
   "metadata": {},
   "outputs": [],
   "source": [
    "from keras.models import Sequential\n",
    "from keras.layers import Conv2D, MaxPool2D, Bidirectional, Dense, Flatten\n",
    "from keras.layers import Dense, Flatten\n",
    "\n",
    "# Define Convolutional Neural Network architecture\n",
    "def build_cnn_model():\n",
    "    model = Sequential()\n",
    "    model.add(Dense(units = X_tr.shape[1] * 2, kernel_initializer='normal', input_dim = X_tr.shape[1], activation='relu'))\n",
    "    model.add(Dense(units = X_tr.shape[1] * 4, kernel_initializer='normal', activation='relu'))\n",
    "    model.add(Dense(units = X_tr.shape[1] * 4, kernel_initializer='normal', activation='relu'))\n",
    "    model.add(Dense(1, activation='sigmoid'))\n",
    "    ######################\n",
    "    model.compile(optimizer='adam',loss='MeanSquaredError',metrics=['RootMeanSquaredError'])\n",
    "\n",
    "    return model\n",
    "\n",
    "# Instantiate CNN\n",
    "model = build_cnn_model()"
   ]
  },
  {
   "cell_type": "code",
   "execution_count": 57,
   "metadata": {},
   "outputs": [
    {
     "name": "stdout",
     "output_type": "stream",
     "text": [
      "Epoch 1/20\n",
      "4180/4180 [==============================] - 3s 738us/step - loss: 0.0120 - root_mean_squared_error: 0.1098 - val_loss: 0.0113 - val_root_mean_squared_error: 0.1063\n",
      "Epoch 2/20\n",
      "4180/4180 [==============================] - 3s 831us/step - loss: 0.0114 - root_mean_squared_error: 0.1066 - val_loss: 0.0114 - val_root_mean_squared_error: 0.1069\n",
      "Epoch 3/20\n",
      "4180/4180 [==============================] - 4s 1ms/step - loss: 0.0113 - root_mean_squared_error: 0.1061 - val_loss: 0.0111 - val_root_mean_squared_error: 0.1053\n",
      "Epoch 4/20\n",
      "4180/4180 [==============================] - 3s 805us/step - loss: 0.0112 - root_mean_squared_error: 0.1057 - val_loss: 0.0114 - val_root_mean_squared_error: 0.1069\n",
      "Epoch 5/20\n",
      "4180/4180 [==============================] - 3s 829us/step - loss: 0.0111 - root_mean_squared_error: 0.1054 - val_loss: 0.0111 - val_root_mean_squared_error: 0.1054\n",
      "Epoch 6/20\n",
      "4180/4180 [==============================] - 4s 855us/step - loss: 0.0110 - root_mean_squared_error: 0.1051 - val_loss: 0.0112 - val_root_mean_squared_error: 0.1057\n",
      "Epoch 7/20\n",
      "4180/4180 [==============================] - 3s 762us/step - loss: 0.0110 - root_mean_squared_error: 0.1048 - val_loss: 0.0110 - val_root_mean_squared_error: 0.1047\n",
      "Epoch 8/20\n",
      "4180/4180 [==============================] - 3s 802us/step - loss: 0.0110 - root_mean_squared_error: 0.1047 - val_loss: 0.0109 - val_root_mean_squared_error: 0.1045\n",
      "Epoch 9/20\n",
      "4180/4180 [==============================] - 3s 788us/step - loss: 0.0109 - root_mean_squared_error: 0.1045 - val_loss: 0.0109 - val_root_mean_squared_error: 0.1046\n",
      "Epoch 10/20\n",
      "4180/4180 [==============================] - 3s 813us/step - loss: 0.0109 - root_mean_squared_error: 0.1044 - val_loss: 0.0109 - val_root_mean_squared_error: 0.1046\n",
      "Epoch 11/20\n",
      "4180/4180 [==============================] - 5s 1ms/step - loss: 0.0109 - root_mean_squared_error: 0.1043 - val_loss: 0.0109 - val_root_mean_squared_error: 0.1042\n",
      "Epoch 12/20\n",
      "4180/4180 [==============================] - 4s 974us/step - loss: 0.0108 - root_mean_squared_error: 0.1042 - val_loss: 0.0110 - val_root_mean_squared_error: 0.1050\n",
      "Epoch 13/20\n",
      "4180/4180 [==============================] - 3s 745us/step - loss: 0.0108 - root_mean_squared_error: 0.1040 - val_loss: 0.0108 - val_root_mean_squared_error: 0.1040\n",
      "Epoch 14/20\n",
      "4180/4180 [==============================] - 4s 934us/step - loss: 0.0108 - root_mean_squared_error: 0.1039 - val_loss: 0.0108 - val_root_mean_squared_error: 0.1039\n",
      "Epoch 15/20\n",
      "4180/4180 [==============================] - 3s 747us/step - loss: 0.0108 - root_mean_squared_error: 0.1038 - val_loss: 0.0109 - val_root_mean_squared_error: 0.1043\n",
      "Epoch 16/20\n",
      "4180/4180 [==============================] - 3s 820us/step - loss: 0.0107 - root_mean_squared_error: 0.1036 - val_loss: 0.0108 - val_root_mean_squared_error: 0.1038\n",
      "Epoch 17/20\n",
      "4180/4180 [==============================] - 5s 1ms/step - loss: 0.0107 - root_mean_squared_error: 0.1036 - val_loss: 0.0109 - val_root_mean_squared_error: 0.1043\n",
      "Epoch 18/20\n",
      "4180/4180 [==============================] - 3s 772us/step - loss: 0.0107 - root_mean_squared_error: 0.1034 - val_loss: 0.0108 - val_root_mean_squared_error: 0.1037\n",
      "Epoch 19/20\n",
      "4180/4180 [==============================] - 4s 883us/step - loss: 0.0107 - root_mean_squared_error: 0.1033 - val_loss: 0.0109 - val_root_mean_squared_error: 0.1044\n",
      "Epoch 20/20\n",
      "4180/4180 [==============================] - 4s 856us/step - loss: 0.0107 - root_mean_squared_error: 0.1033 - val_loss: 0.0109 - val_root_mean_squared_error: 0.1042\n"
     ]
    },
    {
     "data": {
      "text/plain": [
       "<tensorflow.python.keras.callbacks.History at 0x7f8358392d90>"
      ]
     },
     "execution_count": 57,
     "metadata": {},
     "output_type": "execute_result"
    }
   ],
   "source": [
    "# Fit CNN\n",
    "model.fit(X_tr, y_tr, epochs=20, validation_split = 0.25)"
   ]
  },
  {
   "cell_type": "code",
   "execution_count": 58,
   "metadata": {},
   "outputs": [
    {
     "name": "stdout",
     "output_type": "stream",
     "text": [
      "The neural net's RMSE on the test data is 0.10430304816099194.\n"
     ]
    }
   ],
   "source": [
    "from sklearn.metrics import mean_squared_error\n",
    "\n",
    "# Predict on CNN and calculate RMSE\n",
    "y_pred = model.predict(X_test) \n",
    "rms = mean_squared_error(y_pred, y_test, squared=False)\n",
    "print(f\"The neural net's RMSE on the test data is {rms}.\")"
   ]
  },
  {
   "cell_type": "markdown",
   "metadata": {},
   "source": [
    "#### Results:\n",
    "In the end, the convolutional neural network had a mean error of 10.4% on the testing data, about .4% lower than the best RandomForest we utilized. This is a curious result, because as previously mentioned, Neural Networks are not thought to be as useful for regression problems like these ones, especially compared to forest-type regressors. Perhaps the unique complexities involved in this data set and the 'impossible' nature of the problem change our assumptions about what a neural network is supposed to do worse in this scenario; there is no neat formula for success in a problem that aims to predict human preferences. To put it in a somewhat non-scientific way, maybe it's fitting that a neural network doesn't do too bad of a job predicting a human brain's decisionmaking."
   ]
  },
  {
   "cell_type": "markdown",
   "metadata": {},
   "source": [
    "### AutoGluon"
   ]
  },
  {
   "cell_type": "code",
   "execution_count": 2,
   "metadata": {},
   "outputs": [
    {
     "name": "stderr",
     "output_type": "stream",
     "text": [
      "/home/ubuntu/anaconda3/envs/AG_env/lib/python3.7/site-packages/ipykernel/ipkernel.py:283: DeprecationWarning: `should_run_async` will not call `transform_cell` automatically in the future. Please pass the result to `transformed_cell` argument and any exception that happen during thetransform in `preprocessing_exc_tuple` in IPython 7.17 and above.\n",
      "  and should_run_async(code)\n",
      "Loaded data from: Data/Skip_training.csv | Columns = 27 / 27 | Rows = 178342 -> 178342\n",
      "Loaded data from: Data/Skip_test.csv | Columns = 27 / 27 | Rows = 44586 -> 44586\n",
      "Beginning AutoGluon training ...\n",
      "AutoGluon will save models to Data/autogluon-predictratio/\n",
      "AutoGluon Version:  0.0.15\n",
      "Train Data Rows:    178342\n",
      "Train Data Columns: 26\n",
      "Preprocessing data ...\n",
      "AutoGluon infers your prediction problem is: 'regression' (because dtype of label-column == float and many unique label-values observed).\n",
      "\tLabel info (max, min, mean, stddev): (1.0, 0.0, 0.33699, 0.11983)\n",
      "\tIf 'regression' is not the correct problem_type, please manually specify the problem_type argument in fit() (You may specify problem_type as one of: ['binary', 'multiclass', 'regression'])\n",
      "Using Feature Generators to preprocess the data ...\n",
      "Fitting AutoMLPipelineFeatureGenerator...\n",
      "\tAvailable Memory:                    32263.41 MB\n",
      "\tTrain Data (Original)  Memory Usage: 37.1 MB (0.1% of available memory)\n",
      "\tInferring data type of each feature based on column values. Set feature_metadata_in to manually specify special dtypes of the features.\n",
      "\tStage 1 Generators:\n",
      "\t\tFitting AsTypeFeatureGenerator...\n",
      "\tStage 2 Generators:\n",
      "\t\tFitting FillNaFeatureGenerator...\n",
      "\tStage 3 Generators:\n",
      "\t\tFitting IdentityFeatureGenerator...\n",
      "\tStage 4 Generators:\n",
      "\t\tFitting DropUniqueFeatureGenerator...\n",
      "\tTypes of features in original data (raw dtype, special dtypes):\n",
      "\t\t('float', []) : 26 | ['duration', 'release_year', 'us_popularity_estimate', 'acousticness', 'beat_strength', ...]\n",
      "\tTypes of features in processed data (raw dtype, special dtypes):\n",
      "\t\t('float', []) : 26 | ['duration', 'release_year', 'us_popularity_estimate', 'acousticness', 'beat_strength', ...]\n",
      "\t0.5s = Fit runtime\n",
      "\t26 features in original data used to generate 26 features in processed data.\n",
      "\tTrain Data (Processed) Memory Usage: 37.1 MB (0.1% of available memory)\n",
      "Data preprocessing and feature engineering runtime = 0.61s ...\n",
      "AutoGluon will gauge predictive performance using evaluation metric: 'root_mean_squared_error'\n",
      "\tTo change this, specify the eval_metric argument of fit()\n",
      "AutoGluon will early stop models using evaluation metric: 'root_mean_squared_error'\n",
      "Fitting model: RandomForestRegressorMSE ...\n",
      "\t-0.1017\t = Validation root_mean_squared_error score\n",
      "\t676.28s\t = Training runtime\n",
      "\t0.2s\t = Validation runtime\n",
      "Fitting model: ExtraTreesRegressorMSE ...\n",
      "\t-0.1014\t = Validation root_mean_squared_error score\n",
      "\t157.7s\t = Training runtime\n",
      "\t0.3s\t = Validation runtime\n",
      "Fitting model: KNeighborsRegressorUnif ...\n",
      "\t-0.1177\t = Validation root_mean_squared_error score\n",
      "\t0.9s\t = Training runtime\n",
      "\t0.7s\t = Validation runtime\n",
      "Fitting model: KNeighborsRegressorDist ...\n",
      "\t-0.1177\t = Validation root_mean_squared_error score\n",
      "\t0.92s\t = Training runtime\n",
      "\t0.7s\t = Validation runtime\n",
      "Fitting model: LightGBMRegressor ...\n",
      "\t-0.1018\t = Validation root_mean_squared_error score\n",
      "\t2.15s\t = Training runtime\n",
      "\t0.01s\t = Validation runtime\n",
      "Fitting model: LightGBMRegressorXT ...\n",
      "\t-0.102\t = Validation root_mean_squared_error score\n",
      "\t2.26s\t = Training runtime\n",
      "\t0.01s\t = Validation runtime\n",
      "Fitting model: CatboostRegressor ...\n",
      "\t-0.102\t = Validation root_mean_squared_error score\n",
      "\t6.55s\t = Training runtime\n",
      "\t0.01s\t = Validation runtime\n",
      "Fitting model: NeuralNetRegressor ...\n",
      "\t-0.1016\t = Validation root_mean_squared_error score\n",
      "\t211.0s\t = Training runtime\n",
      "\t0.05s\t = Validation runtime\n",
      "Fitting model: LightGBMRegressorCustom ...\n",
      "\t-0.1017\t = Validation root_mean_squared_error score\n",
      "\t6.19s\t = Training runtime\n",
      "\t0.04s\t = Validation runtime\n",
      "Fitting model: weighted_ensemble_k0_l1 ...\n",
      "\t-0.1006\t = Validation root_mean_squared_error score\n",
      "\t0.5s\t = Training runtime\n",
      "\t0.0s\t = Validation runtime\n",
      "AutoGluon training complete, total runtime = 1167.99s ...\n"
     ]
    }
   ],
   "source": [
    "from autogluon import TabularPrediction as task\n",
    "\n",
    "# Load training and test data for AutoGluon\n",
    "train_data = task.Dataset(file_path='Data/Skip_training.csv')\n",
    "test_data = task.Dataset(file_path='Data/Skip_test.csv')\n",
    "\n",
    "# Fit AutoGluon to training data\n",
    "predictor_playratio = task.fit(train_data=train_data, output_directory=\"Data/autogluon-predictratio\", label='play_ratio')"
   ]
  },
  {
   "cell_type": "code",
   "execution_count": 3,
   "metadata": {},
   "outputs": [
    {
     "name": "stderr",
     "output_type": "stream",
     "text": [
      "/home/ubuntu/anaconda3/envs/AG_env/lib/python3.7/site-packages/ipykernel/ipkernel.py:283: DeprecationWarning: `should_run_async` will not call `transform_cell` automatically in the future. Please pass the result to `transformed_cell` argument and any exception that happen during thetransform in `preprocessing_exc_tuple` in IPython 7.17 and above.\n",
      "  and should_run_async(code)\n"
     ]
    },
    {
     "name": "stdout",
     "output_type": "stream",
     "text": [
      "Predictive performance on given dataset: root_mean_squared_error = 0.10096534238678567\n"
     ]
    }
   ],
   "source": [
    "# Check predictive performance (RMSE) of AutoGluon on test data\n",
    "performance = predictor_playratio.evaluate(test_data)"
   ]
  },
  {
   "cell_type": "markdown",
   "metadata": {},
   "source": [
    "#### Results:\n",
    "The root mean squared error for AutoGluon on the prediction task was around 10.1%, a whole .3% better than the neural network we used."
   ]
  },
  {
   "cell_type": "code",
   "execution_count": 4,
   "metadata": {},
   "outputs": [
    {
     "name": "stderr",
     "output_type": "stream",
     "text": [
      "/home/ubuntu/anaconda3/envs/AG_env/lib/python3.7/site-packages/ipykernel/ipkernel.py:283: DeprecationWarning: `should_run_async` will not call `transform_cell` automatically in the future. Please pass the result to `transformed_cell` argument and any exception that happen during thetransform in `preprocessing_exc_tuple` in IPython 7.17 and above.\n",
      "  and should_run_async(code)\n",
      "Computing raw permutation importance for 26 features on weighted_ensemble_k0_l1 ...\n",
      "\t223.59s\t= Expected runtime\n",
      "\t198.59s\t= Actual runtime\n"
     ]
    }
   ],
   "source": [
    "# Calculate AutoGluon importance scores\n",
    "importance_scores = predictor_playratio.feature_importance(test_data)"
   ]
  },
  {
   "cell_type": "code",
   "execution_count": 5,
   "metadata": {},
   "outputs": [
    {
     "name": "stdout",
     "output_type": "stream",
     "text": [
      "duration                  0.008465\n",
      "us_popularity_estimate    0.004614\n",
      "release_year              0.004188\n",
      "acoustic_vector_0         0.004098\n",
      "acoustic_vector_2         0.002579\n",
      "acoustic_vector_4         0.002421\n",
      "acoustic_vector_5         0.001728\n",
      "acoustic_vector_7         0.001663\n",
      "instrumentalness          0.001507\n",
      "acoustic_vector_6         0.001483\n",
      "acoustic_vector_3         0.001353\n",
      "speechiness               0.001226\n",
      "energy                    0.001035\n",
      "acoustic_vector_1         0.001002\n",
      "acousticness              0.000968\n",
      "organism                  0.000891\n",
      "beat_strength             0.000590\n",
      "dyn_range_mean            0.000578\n",
      "mechanism                 0.000471\n",
      "loudness                  0.000333\n",
      "flatness                  0.000209\n",
      "tempo                     0.000178\n",
      "danceability              0.000176\n",
      "bounciness                0.000121\n",
      "liveness                  0.000088\n",
      "valence                   0.000057\n",
      "dtype: float64\n"
     ]
    },
    {
     "name": "stderr",
     "output_type": "stream",
     "text": [
      "/home/ubuntu/anaconda3/envs/AG_env/lib/python3.7/site-packages/ipykernel/ipkernel.py:283: DeprecationWarning: `should_run_async` will not call `transform_cell` automatically in the future. Please pass the result to `transformed_cell` argument and any exception that happen during thetransform in `preprocessing_exc_tuple` in IPython 7.17 and above.\n",
      "  and should_run_async(code)\n"
     ]
    }
   ],
   "source": [
    "print(importance_scores)"
   ]
  },
  {
   "cell_type": "markdown",
   "metadata": {},
   "source": [
    "It's very interesting how much AutoGluon's feature importances vary from the forests trained earlier. While the RandomForest and ExtraTreesRegressor weighed 'organism' as one of the most important features for prediction, AutoGluon ranked it in the bottom half of the dataset's features, instead focusing on song duration ('duration'), its popularity ('us_popularity_estimate'), and its release year ('release_year'). These choices are more in line with our simplest model, the linear regression. Few people would argue that these latter features are all extremely important determinants of people listening to a complete song: that it's not too long, it's a song that other people listen to, and that it's new or topical. It's interesting, though, that 'release_year' showed up so high here and not in any of our other regressors' feature importances. As one can see in the heat map below, it doesn't seem to highly correlate with any other feature, so why was it overlooked in other regressors? I don't have a great answer for this just yet. Another curious detail to note is that AutoGluon doesn't prize 'dyn_range_mean' as highly as the other regressors we studied. However, as we'll also see below, there are high correlations of that feature with other features that are listed higher in importance here, so this is not wholly surprising. Rather, it may hint that AutoGluon's ensembling does a good job in prediction because it does a good job in rejecting high-magnitude, coarsely-predicting features in favor of collinear/constituent features that more finely predict skips.\n",
    "\n",
    "Looking at the features selected, and examining their distributions, there is again no connection between normality of distribution and feature selection - the top-selected features all have distinct distributions. Also, one of the bipolar-distributed features we noted earlier in this project, 'instrumentalness', is near the top of the list, which implies that AutoGluon truly does undergo a distribution-indifferent feature selection process.\n",
    "\n",
    "Now that we've reviewed regressor performance and feature selection, we might get more insight from making sure none of our features are essentially representing the same thing. Let's make a correlation matrix to check for multicollinearity."
   ]
  },
  {
   "cell_type": "code",
   "execution_count": 273,
   "metadata": {},
   "outputs": [
    {
     "data": {
      "image/png": "[encoded data removed]",
      "text/plain": [
       "<Figure size 1152x1152 with 2 Axes>"
      ]
     },
     "metadata": {
      "needs_background": "light"
     },
     "output_type": "display_data"
    }
   ],
   "source": [
    "import seaborn\n",
    "\n",
    "# Create heat map for dataset features\n",
    "corr_mat = tracks2.corr()\n",
    "fig = plt.figure(figsize = (16, 16))\n",
    "seaborn.heatmap(corr_mat, vmax=.75, square = True)\n",
    "plt.show()"
   ]
  },
  {
   "cell_type": "markdown",
   "metadata": {},
   "source": [
    "Thankfully, it doesn't appear like multicollinearity is a huge factor in the feature selection differences between AutoGluon and our various regressors. AutoGluon's top-selected features-- 'duration', 'us_popularity_estimate', 'release_year' and 'acoustic_vector_0'-- do not have worryingly high correlations with 'loudness', 'acoustic_vector_1', 'acoustic_vector_3', 'acoustic_vector_7', 'dyn_range_mean' or 'organism', with one exception. 'acoustic_vector_0' is highly correlated with 'dyn_range_mean', which was very highly-ranked by our linear regression model and somewhat highly-ranked by the RandomForest, if not in the uppermost echelon of importance. Besdies that pair, the highest correlation between the two groups of features is between 'acoustic_vector_0' and 'acoustic_vector_3'. However, as mentioned earlier in this project, Spotify doesn't give much explanation for the meaning of their proprietary features, so the semantic reasoning behind these 'acoustic_vector' correlations in particular is hard to ascertain. Moreover, there's not much we can do about it, but it's reassuring that these opaque collinearities are not more of a glaring issue in this project. So, there may be a small amount of multicollinearity influencing feature selection, but there isn't enough to greatly affect this project's insights. After all, the highest correlations on this heatmap do not tend to represent opposing feature selections between the models."
   ]
  },
  {
   "cell_type": "code",
   "execution_count": 6,
   "metadata": {},
   "outputs": [
    {
     "name": "stdout",
     "output_type": "stream",
     "text": [
      "*** Summary of fit() ***\n",
      "Estimated performance of each model:\n",
      "                      model  score_val  pred_time_val     fit_time  pred_time_val_marginal  fit_time_marginal  stack_level  can_infer  fit_order\n",
      "0   weighted_ensemble_k0_l1  -0.100613       0.589464  1049.872033                0.001691           0.495940            1       True         10\n",
      "1    ExtraTreesRegressorMSE  -0.101412       0.303263   157.696837                0.303263         157.696837            0       True          2\n",
      "2        NeuralNetRegressor  -0.101635       0.051770   210.995382                0.051770         210.995382            0       True          8\n",
      "3  RandomForestRegressorMSE  -0.101720       0.204670   676.276057                0.204670         676.276057            0       True          1\n",
      "4   LightGBMRegressorCustom  -0.101738       0.035971     6.190336                0.035971           6.190336            0       True          9\n",
      "5         LightGBMRegressor  -0.101823       0.013113     2.150315                0.013113           2.150315            0       True          5\n",
      "6       LightGBMRegressorXT  -0.101975       0.014957     2.257503                0.014957           2.257503            0       True          6\n",
      "7         CatboostRegressor  -0.102006       0.005170     6.548421                0.005170           6.548421            0       True          7\n",
      "8   KNeighborsRegressorUnif  -0.117727       0.704240     0.898797                0.704240           0.898797            0       True          3\n",
      "9   KNeighborsRegressorDist  -0.117744       0.704547     0.923776                0.704547           0.923776            0       True          4\n",
      "Number of models trained: 10\n",
      "Types of models trained:\n",
      "{'RFModel', 'XTModel', 'CatboostModel', 'LGBModel', 'WeightedEnsembleModel', 'TabularNeuralNetModel', 'KNNModel'}\n",
      "Bagging used: False \n",
      "Stack-ensembling used: False \n",
      "Hyperparameter-tuning used: False \n",
      "User-specified hyperparameters:\n",
      "{'default': {'NN': [{}], 'GBM': [{}, {'extra_trees': True, 'AG_args': {'name_suffix': 'XT'}}], 'CAT': [{}], 'RF': [{'criterion': 'mse', 'AG_args': {'name_suffix': 'MSE', 'problem_types': ['regression']}}], 'XT': [{'criterion': 'mse', 'AG_args': {'name_suffix': 'MSE', 'problem_types': ['regression']}}], 'KNN': [{'weights': 'uniform', 'AG_args': {'name_suffix': 'Unif'}}, {'weights': 'distance', 'AG_args': {'name_suffix': 'Dist'}}], 'custom': [{'num_boost_round': 10000, 'num_threads': -1, 'objective': 'regression', 'verbose': -1, 'boosting_type': 'gbdt', 'learning_rate': 0.03, 'num_leaves': 128, 'feature_fraction': 0.9, 'min_data_in_leaf': 5, 'two_round': True, 'seed_value': 0, 'AG_args': {'model_type': 'GBM', 'name_suffix': 'Custom', 'disable_in_hpo': True}}]}}\n",
      "Feature Metadata (Processed):\n",
      "(raw dtype, special dtypes):\n",
      "('float', []) : 26 | ['duration', 'release_year', 'us_popularity_estimate', 'acousticness', 'beat_strength', ...]\n",
      "*** End of fit() summary ***\n"
     ]
    },
    {
     "name": "stderr",
     "output_type": "stream",
     "text": [
      "/home/ubuntu/anaconda3/envs/AG_env/lib/python3.7/site-packages/autogluon/utils/plots.py:141: UserWarning: AutoGluon summary plots cannot be created because bokeh is not installed. To see plots, please do: \"pip install bokeh==2.0.1\"\n",
      "  warnings.warn('AutoGluon summary plots cannot be created because bokeh is not installed. To see plots, please do: \"pip install bokeh==2.0.1\"')\n"
     ]
    }
   ],
   "source": [
    "# Check summary and overall architecture of AutoGluon ensemble\n",
    "results = predictor_playratio.fit_summary()"
   ]
  },
  {
   "cell_type": "markdown",
   "metadata": {},
   "source": [
    "Checking AutoGluon's fit summary, we can infer some interesting tidbits about how it reached its final predictions, and how its behavior might have influenced its superior performance. Although there is not a robust amount of detail provided for most of the regressors listed here, which were weighted into AutoGluon's final ensemble, some details stick out. \n",
    "\n",
    "For one, out of all of AutoGluon's tree-based regressors, The ExtraTreesRegressor that AutoGluon utilized performed significantly better than both our own ExtraTreesRegressor and the RandomForest we utilized earlier in this experiment, averaging around 10.17% error compared to 10.98% and 10.86% respectively. This is perplexing, and hints that part of the poor performance of the ExtraTrees forest tested earlier in this project could have to do with cross-validation procedures or hyperparameter selection. Notwithstanding, it appears that AutoGluon chose not to tune its hyperparameters for any of its models for this problem (which it is free to do automatically, without user specification). The default hyperparameters for the LightGBMRegressorCustom regressor (a tree-based gradient boosting regressor) give us some insight to the differing performance: for one, it is built with a much higher maximum number of leaves (128) than the forests we used (8) (this choice was partially a result of the prior hyperparameter search to the GridSearch seen earlier in this project, which resulted in the GridSearchCV regressor picking a max_depth of 4 when given tuning choices spanning from 4 to 100. Nevertheless, this is worthy of note for future iterations of this project). The custom regressor is also specified to have a much higher fraction of features per tree (90%) than our RandomForest (10/26, ~38%). Although boosted tree models' stochasticity makes them a somewhat imbalanced comparison for a normal RandomForest, these hyperparameter specifications are still purported to resemble the default parameters that the other tree-based regressors use for this regression problem, so these differences give some insight on how AutoGluon's forests so clearly outperformed our own.\n",
    "\n",
    "Despite the data science field's near-unanimous agreement on the contrary, the neural network regressor used by AutoGluon appears to have been one of its best performing constituents in this particular problem, only being slightly beaten by the ExtraTrees regressor. This is surprising on its own; the Neural Network's presence in AutoGluon's aggregation has been said to be mostly due to its benefit for the overall ensemble, which comes from neural networks' unique decision boundaries compared to tree-based models. Regardless, looking at [the architecture of AutoGluon's neural network](https://arxiv.org/pdf/2003.06505.pdf) one can imagine how the unique features of its feedforward neural network, such as its early parallel linear skip-connection made to the output layer, might influence its performance. Although we are given little precise information about the network's performance in this case, we can see that its training lasted significantly longer than the neural network we used earlier. This tells us very little-- a more complex neural network takes much longer to train than network as simple as the one we used, regardless of the potential units per layer. But altogether, the superior performance certainly hints that Dense block layers as used in AutoGluon's neural network architecture could be a good way to start improving the simple neural network design we used for regression problems like this.\n",
    "\n",
    "Of course, the most alluring aspect of AutoGluon (and AutoML in general) is the capability to weigh the influence of several regressors and create custom ensembles that yield optimally-performing predictions. That's exactly what we've seen in the above results: the 'can_infer' column indicates all of the regressors trained were incorporated into the final ensemble, which by the 'stack_level' column we know was the only regressor to take in data from other regressors. With more complex tasks, it would be interesting to see how AutoGluon's behavior differs in this regard, and how it may seek to create sub-ensembles or input data from basic regressors to other base regressors before forming a final ensemble. Regardless, the results speak for themselves."
   ]
  },
  {
   "cell_type": "code",
   "execution_count": 59,
   "metadata": {},
   "outputs": [
    {
     "data": {
      "image/png": "[encoded data removed]",
      "text/plain": [
       "<Figure size 432x288 with 2 Axes>"
      ]
     },
     "metadata": {
      "needs_background": "light"
     },
     "output_type": "display_data"
    }
   ],
   "source": [
    "import matplotlib.pyplot as plt\n",
    "import numpy as np\n",
    "\n",
    "# Collect regressor performance data under one dictionary, and rescale coloring scheme\n",
    "regressors = {'AutoGluon':0.10096534, 'CNN':0.10430304, 'RandomForest':0.10845876, 'OLS':0.10972723, 'ExtraTrees':0.10974964}\n",
    "keys, values = zip(*regressors.items())\n",
    "my_cmap = plt.get_cmap(\"Reds\")\n",
    "rescale = lambda y: (y - np.min(y) + .001) / (np.max(y) - np.min(y) +.002)\n",
    "\n",
    "# Create subplots and bar graph\n",
    "f, axs = plt.subplots(1, 3, sharey=True)\n",
    "ax, ax2, ax3 = axs\n",
    "ax.barh(keys, values, color=my_cmap(rescale(values)))\n",
    "ax.set_xlim(0, .005)\n",
    "ax.spines['right'].set_visible(False)\n",
    "gs = axs[1].get_gridspec()\n",
    "ax2.remove()\n",
    "ax3.remove()\n",
    "axbig = f.add_subplot(gs[1:])\n",
    "axbig.barh(keys, values, color=my_cmap(rescale(values)))\n",
    "axbig.set_xlim(.1, .112)\n",
    "axbig.tick_params(left=False)\n",
    "axbig.spines['left'].set_visible(False)\n",
    "axbig.axes.get_yaxis().set_visible(False)\n",
    "\n",
    "# Add labels\n",
    "plt.title(\"Regressor Performance\", pad=10)\n",
    "plt.xlabel(\"RMSE Error\")\n",
    "for i, val in enumerate(values):\n",
    "    plt.text(val, i, \" \" + f'{val:.4f}')\n",
    "\n",
    "# Create slashes to indicate discontinuity\n",
    "d = .02 \n",
    "kwargs = dict(transform=ax.transAxes, color='k', clip_on=False)\n",
    "ax.plot((1.015+d, 1.015-d), (+d, -d), **kwargs)        \n",
    "ax.plot((1-d, 1+d), (1-d, 1+d), **kwargs) \n",
    "kwargs.update(transform=ax2.transAxes) \n",
    "axbig.plot((-d, +d), (1-d, 1+d), **kwargs) \n",
    "axbig.plot((.009-d, .009+d), (-d, +d), **kwargs) \n",
    "plt.show()"
   ]
  },
  {
   "cell_type": "markdown",
   "metadata": {},
   "source": [
    "#### Wrap-up\n",
    "\n",
    "I greatly enjoyed this project, and I hope that it was not too much of a chore to read."
   ]
  },
  {
   "cell_type": "markdown",
   "metadata": {},
   "source": [
    "Thank you for visiting this page. :)"
   ]
  }
 ],
 "metadata": {
  "kernelspec": {
   "display_name": "Python 3",
   "language": "python",
   "name": "python3"
  },
  "language_info": {
   "codemirror_mode": {
    "name": "ipython",
    "version": 3
   },
   "file_extension": ".py",
   "mimetype": "text/x-python",
   "name": "python",
   "nbconvert_exporter": "python",
   "pygments_lexer": "ipython3",
   "version": "3.8.3"
  }
 },
 "nbformat": 4,
 "nbformat_minor": 4
}
